{
 "cells": [
  {
   "cell_type": "code",
   "execution_count": 8,
   "id": "511c79b5",
   "metadata": {},
   "outputs": [],
   "source": [
    "import pandas\n",
    "import numpy\n",
    "from sklearn import datasets\n",
    "from sklearn.preprocessing import scale\n",
    "from sklearn.neighbors import KNeighborsRegressor\n",
    "from sklearn.model_selection import KFold\n",
    "from sklearn.model_selection import cross_val_score"
   ]
  },
  {
   "cell_type": "code",
   "execution_count": 9,
   "id": "939f2c0a",
   "metadata": {},
   "outputs": [],
   "source": [
    "boston=datasets.load_boston()"
   ]
  },
  {
   "cell_type": "code",
   "execution_count": 10,
   "id": "ef1d7c22",
   "metadata": {},
   "outputs": [],
   "source": [
    "data=pandas.DataFrame(data=boston.data,columns=boston.feature_names)\n",
    "target=pandas.DataFrame(data=boston.target)\n",
    "boston=0"
   ]
  },
  {
   "cell_type": "code",
   "execution_count": 11,
   "id": "2a896d9e",
   "metadata": {},
   "outputs": [],
   "source": [
    "dataScaled=scale(data)\n",
    "data=0"
   ]
  },
  {
   "cell_type": "code",
   "execution_count": 12,
   "id": "e6e9126a",
   "metadata": {},
   "outputs": [],
   "source": [
    "kf = KFold(n_splits=5, shuffle=True, random_state=42)"
   ]
  },
  {
   "cell_type": "code",
   "execution_count": 13,
   "id": "8194f76b",
   "metadata": {},
   "outputs": [],
   "source": [
    "p_parameter=numpy.linspace(1, 10, num = 200, endpoint = True, retstep = False)\n",
    "\n",
    "validationTest={}\n",
    "for parameter in p_parameter: \n",
    "    regression = KNeighborsRegressor(n_neighbors=5, weights='distance', p=parameter)\n",
    "    regression.fit(dataScaled,target)\n",
    "    scores=cross_val_score(regression, dataScaled, target, scoring='neg_mean_squared_error',cv=kf)\n",
    "    validationTest[parameter] = round(scores.mean(),1)"
   ]
  },
  {
   "cell_type": "code",
   "execution_count": 14,
   "id": "402cad58",
   "metadata": {},
   "outputs": [
    {
     "name": "stdout",
     "output_type": "stream",
     "text": [
      "Определите, при каком p качество на кросс-валидации оказалось оптимальным.\n",
      "     Scores\n",
      "p          \n",
      "1.0   -16.0\n"
     ]
    }
   ],
   "source": [
    "validationTestDataFrame=pandas.DataFrame.from_dict(validationTest, orient='index') \n",
    "validationTestDataFrame.index.name = 'p'\n",
    "validationTestDataFrame.columns =['Scores']\n",
    "validationTestDataFrame.sort_values(['Scores'], ascending=[False],inplace=True)\n",
    "print('Определите, при каком p качество на кросс-валидации оказалось оптимальным.');\n",
    "print(validationTestDataFrame.head(1))"
   ]
  },
  {
   "cell_type": "code",
   "execution_count": null,
   "id": "232733b3",
   "metadata": {},
   "outputs": [],
   "source": []
  }
 ],
 "metadata": {
  "kernelspec": {
   "display_name": "Python 3",
   "language": "python",
   "name": "python3"
  },
  "language_info": {
   "codemirror_mode": {
    "name": "ipython",
    "version": 3
   },
   "file_extension": ".py",
   "mimetype": "text/x-python",
   "name": "python",
   "nbconvert_exporter": "python",
   "pygments_lexer": "ipython3",
   "version": "3.8.8"
  }
 },
 "nbformat": 4,
 "nbformat_minor": 5
}
