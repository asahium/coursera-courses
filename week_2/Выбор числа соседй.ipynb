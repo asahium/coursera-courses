{
 "cells": [
  {
   "cell_type": "code",
   "execution_count": 1,
   "id": "73df9a70",
   "metadata": {},
   "outputs": [],
   "source": [
    "import pandas\n",
    "from sklearn.model_selection import KFold\n",
    "from sklearn.model_selection import cross_val_score\n",
    "from sklearn.preprocessing import scale\n",
    "from sklearn.neighbors import KNeighborsClassifier\n",
    "\n",
    "#Загрузите выборку Wine по адресу \n",
    "#https://archive.ics.uci.edu/ml/machine-learning-databases/wine/wine.data (файл также приложен к этому заданию)\n",
    "\n",
    "#Извлеките из данных признаки и классы. Класс записан в первом столбце \n",
    "#(три варианта), признаки — в столбцах со второго по последний. \n",
    "#Более подробно о сути признаков можно прочитать по адресу \n",
    "#https://archive.ics.uci.edu/ml/datasets/Wine (см. также файл wine.names, приложенный к заданию)\n",
    "\n",
    "\n",
    "\n",
    "#Оценку качества необходимо провести методом кросс-валидации по 5 блокам (5-fold). \n",
    "#Создайте генератор разбиений, который перемешивает выборку перед формированием блоков (shuffle=True). \n",
    "#Для воспроизводимости результата, создавайте генератор KFold с фиксированным параметром random_state=42. \n",
    "#В качестве меры качества используйте долю верных ответов (accuracy).\n",
    "\n",
    "#Вычислить качество на всех разбиениях можно при помощи функции sklearn.model_selection.cross_val_score. \n",
    "#В качестве параметра estimator передается классификатор, \n",
    "#в качестве параметра cv — генератор разбиений с предыдущего шага. \n",
    "#С помощью параметра scoring можно задавать меру качества, \n",
    "#по умолчанию в задачах классификации используется доля верных ответов (accuracy). \n",
    "#Результатом является массив, значения которого нужно усреднить.\n",
    "\n",
    "#Найдите точность классификации на кросс-валидации для метода k ближайших соседей \n",
    "#(sklearn.neighbors.KNeighborsClassifier), при k от 1 до 50. \n",
    "#При каком k получилось оптимальное качество? Чему оно равно (число в интервале от 0 до 1)? \n",
    "#Данные результаты и будут ответами на вопросы 1 и 2.\n",
    "\n",
    "\n",
    "\n",
    "\n",
    "\n",
    "\n",
    "#Какое значение k получилось оптимальным после приведения признаков к одному масштабу? \n",
    "#Приведите ответы на вопросы 3 и 4. Помогло ли масштабирование признаков?"
   ]
  },
  {
   "cell_type": "code",
   "execution_count": 3,
   "id": "1296ff36",
   "metadata": {},
   "outputs": [],
   "source": [
    "data = pandas.read_csv('wine.data')\n"
   ]
  },
  {
   "cell_type": "code",
   "execution_count": 4,
   "id": "15c5caea",
   "metadata": {},
   "outputs": [],
   "source": [
    "data.columns = ['Class','Alcohol','MalicAcid','Ash','AlcalinityOfAsh','Magnesium','TotalPhenols','Flavanoids','NonflavanoidPhenols','Proanthocyanins','ColorIntensity','Hue','OD280_OD315OfDilutedWines','Proline']\n",
    "target = data.Class#вычленяем массив\n",
    "model = data.drop(['Class'], axis=1)#Вычленяем модель из датасет "
   ]
  },
  {
   "cell_type": "code",
   "execution_count": 5,
   "id": "a76914d1",
   "metadata": {},
   "outputs": [],
   "source": [
    "kf = KFold(n_splits=5, shuffle=True, random_state=42)\n"
   ]
  },
  {
   "cell_type": "code",
   "execution_count": 6,
   "id": "ac071409",
   "metadata": {},
   "outputs": [],
   "source": [
    "def CalculateScores(model,count):        \n",
    "    validationTest={}\n",
    "    for k in range(50):#счетчик идет от нуля\n",
    "        model_knc = KNeighborsClassifier(n_neighbors = (k+1)) #в параметре передаем кол-во соседей\n",
    "        scores = cross_val_score(model_knc, model, target, scoring='accuracy',cv=kf)\n",
    "        validationTest[k+1]=scores.mean()#берем среднее значение оценки\n",
    "\n",
    "    #формируем датасет для сортировки    \n",
    "    validationTestDataFrame=pandas.DataFrame.from_dict(validationTest, orient='index')#получаем из словаря датасет  \n",
    "    validationTestDataFrame.index.name = 'k'\n",
    "    validationTestDataFrame.columns =['Scores']\n",
    "    validationTestDataFrame.sort_values(['Scores'], ascending=[False],inplace=True)\n",
    "    print('При каком k получилось оптимальное качество? Чему оно равно (число в интервале от 0 до 1)? Данные результаты и будут ответами на вопросы 1 и 2.');\n",
    "    print(validationTestDataFrame.head(count))"
   ]
  },
  {
   "cell_type": "code",
   "execution_count": 7,
   "id": "02a2b3ce",
   "metadata": {},
   "outputs": [
    {
     "name": "stdout",
     "output_type": "stream",
     "text": [
      "При каком k получилось оптимальное качество? Чему оно равно (число в интервале от 0 до 1)? Данные результаты и будут ответами на вопросы 1 и 2.\n",
      "     Scores\n",
      "k          \n",
      "1  0.735238\n"
     ]
    }
   ],
   "source": [
    "CalculateScores(model,1)\n",
    "#Произведите масштабирование признаков с помощью функции sklearn.preprocessing.scale. \n"
   ]
  },
  {
   "cell_type": "code",
   "execution_count": 8,
   "id": "e616bd20",
   "metadata": {},
   "outputs": [
    {
     "name": "stdout",
     "output_type": "stream",
     "text": [
      "При каком k получилось оптимальное качество? Чему оно равно (число в интервале от 0 до 1)? Данные результаты и будут ответами на вопросы 1 и 2.\n",
      "      Scores\n",
      "k           \n",
      "33  0.977302\n",
      "30  0.977302\n",
      "28  0.977302\n",
      "37  0.977302\n",
      "36  0.977302\n",
      "35  0.977302\n",
      "34  0.977302\n",
      "29  0.977302\n",
      "32  0.977302\n",
      "31  0.977302\n",
      "7   0.971905\n"
     ]
    }
   ],
   "source": [
    "model2=scale(model)#масштабирование выполняется перед обучением\n",
    "CalculateScores(model2,11)#Снова найдите оптимальное k на кросс-валидации."
   ]
  },
  {
   "cell_type": "markdown",
   "id": "0c955953",
   "metadata": {},
   "source": [
    "выше 28"
   ]
  }
 ],
 "metadata": {
  "kernelspec": {
   "display_name": "Python 3",
   "language": "python",
   "name": "python3"
  },
  "language_info": {
   "codemirror_mode": {
    "name": "ipython",
    "version": 3
   },
   "file_extension": ".py",
   "mimetype": "text/x-python",
   "name": "python",
   "nbconvert_exporter": "python",
   "pygments_lexer": "ipython3",
   "version": "3.8.8"
  }
 },
 "nbformat": 4,
 "nbformat_minor": 5
}
