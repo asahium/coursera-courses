{
 "cells": [
  {
   "cell_type": "code",
   "execution_count": 1,
   "id": "00e5763a",
   "metadata": {},
   "outputs": [],
   "source": [
    "import pandas\n",
    "from sklearn.preprocessing import StandardScaler\n",
    "from sklearn.linear_model import Perceptron\n",
    "from sklearn.metrics import accuracy_score"
   ]
  },
  {
   "cell_type": "code",
   "execution_count": 2,
   "id": "c85c672e",
   "metadata": {},
   "outputs": [],
   "source": [
    "data= pandas.read_csv('perceptron-train.csv',header=None)\n",
    "y_train = data[0]\n",
    "X_train = data.loc[:, 1:]"
   ]
  },
  {
   "cell_type": "code",
   "execution_count": 3,
   "id": "39e8bba6",
   "metadata": {},
   "outputs": [],
   "source": [
    "data= pandas.read_csv('perceptron-test.csv',header=None)\n",
    "y_test = data[0]\n",
    "X_test = data.loc[:, 1:]\n",
    "\n",
    "data=0"
   ]
  },
  {
   "cell_type": "code",
   "execution_count": 9,
   "id": "6dc09270",
   "metadata": {},
   "outputs": [],
   "source": [
    "def PerceptronTrain(typeStr,X_train, y_train,X_test,y_test):     \n",
    "    clf = Perceptron()\n",
    "    clf.fit(X_train, y_train)\n",
    "    predictions = clf.predict(X_test)\n",
    "    accuracyScore=accuracy_score(y_test, predictions)\n",
    "\n",
    "    print('Подсчитайте качество '+typeStr)\n",
    "    accuracyScoreRounded=round(accuracyScore,3)\n",
    "    print(accuracyScoreRounded)\n",
    "    return accuracyScoreRounded"
   ]
  },
  {
   "cell_type": "code",
   "execution_count": 10,
   "id": "4a727339",
   "metadata": {},
   "outputs": [
    {
     "name": "stdout",
     "output_type": "stream",
     "text": [
      "Подсчитайте качество без нормализации\n",
      "0.655\n"
     ]
    }
   ],
   "source": [
    "accuracyScoreGeneral=PerceptronTrain('без нормализации',X_train, y_train,X_test,y_test)\n"
   ]
  },
  {
   "cell_type": "code",
   "execution_count": 11,
   "id": "969b1fe0",
   "metadata": {},
   "outputs": [],
   "source": [
    "scaler = StandardScaler()\n",
    "X_train_scaled = scaler.fit_transform(X_train)\n",
    "X_test_scaled = scaler.transform(X_test)"
   ]
  },
  {
   "cell_type": "code",
   "execution_count": 12,
   "id": "714a65cc",
   "metadata": {},
   "outputs": [
    {
     "name": "stdout",
     "output_type": "stream",
     "text": [
      "Подсчитайте качество c нормализацией\n",
      "0.845\n"
     ]
    }
   ],
   "source": [
    "accuracyScoreScaled=PerceptronTrain('c нормализацией',X_train_scaled, y_train,X_test_scaled,y_test)\n"
   ]
  },
  {
   "cell_type": "code",
   "execution_count": 13,
   "id": "184b3b2d",
   "metadata": {},
   "outputs": [
    {
     "name": "stdout",
     "output_type": "stream",
     "text": [
      "Разница\n",
      "0.18999999999999995\n"
     ]
    }
   ],
   "source": [
    "Comparation=accuracyScoreScaled-accuracyScoreGeneral\n",
    "print('Разница')\n",
    "print(Comparation)"
   ]
  },
  {
   "cell_type": "code",
   "execution_count": null,
   "id": "2481a6a9",
   "metadata": {},
   "outputs": [],
   "source": []
  }
 ],
 "metadata": {
  "kernelspec": {
   "display_name": "Python 3",
   "language": "python",
   "name": "python3"
  },
  "language_info": {
   "codemirror_mode": {
    "name": "ipython",
    "version": 3
   },
   "file_extension": ".py",
   "mimetype": "text/x-python",
   "name": "python",
   "nbconvert_exporter": "python",
   "pygments_lexer": "ipython3",
   "version": "3.8.8"
  }
 },
 "nbformat": 4,
 "nbformat_minor": 5
}
